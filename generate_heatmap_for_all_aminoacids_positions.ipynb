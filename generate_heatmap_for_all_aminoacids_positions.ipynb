{
 "cells": [
  {
   "cell_type": "code",
   "execution_count": 14,
   "metadata": {},
   "outputs": [],
   "source": [
    "import numpy as np\n",
    "import pandas as pd\n",
    "import os"
   ]
  },
  {
   "cell_type": "code",
   "execution_count": 4,
   "metadata": {},
   "outputs": [],
   "source": [
    "def attention_filename_for_hla_and_peptide(hla, peptide):\n",
    "    return f\"results/attention\\\\{hla.replace(':', '_').replace('*', '_')}_{peptide}_attention.csv\""
   ]
  },
  {
   "cell_type": "code",
   "execution_count": 1,
   "metadata": {},
   "outputs": [],
   "source": [
    "aa_array = ['A', 'R', 'N', 'D', 'C', 'Q', 'E', 'G', 'H', 'I', 'L', 'K', 'M', 'F', 'P', 'S', 'T', 'W', 'Y', 'V']"
   ]
  },
  {
   "cell_type": "code",
   "execution_count": 3,
   "metadata": {},
   "outputs": [],
   "source": [
    "contribs = np.zeros((20, 14))"
   ]
  },
  {
   "cell_type": "code",
   "execution_count": 11,
   "metadata": {},
   "outputs": [
    {
     "name": "stdout",
     "output_type": "stream",
     "text": [
      "   Unnamed: 0         A       A.1         H         S       A.2         R  \\\n",
      "0           Y  0.094325  0.093094  0.128537  0.105539  0.068115  0.209524   \n",
      "1           F  0.164958  0.149420  0.308848  0.340853  0.113617  0.849655   \n",
      "2           A  0.213492  0.201716  0.229285  0.064774  0.215036  0.200010   \n",
      "3           M  0.217335  0.241155  0.126787  0.070436  0.176070  0.397896   \n",
      "4           Y  0.155086  0.155931  0.151623  0.121196  0.140737  0.285950   \n",
      "5           Q  0.314955  0.240707  0.464012  0.044147  0.117955  0.735629   \n",
      "6           E  0.073052  0.077965  0.208764  0.061027  0.059513  0.063901   \n",
      "7           N  0.319620  0.247608  0.149875  0.062248  0.191860  0.215202   \n",
      "8           M  0.190476  0.155494  0.091967  0.052482  0.084534  0.381217   \n",
      "9           A  0.263867  0.292321  0.191308  0.184630  0.271488  0.258083   \n",
      "10          H  0.632407  0.366633  0.460867  0.041554  0.134618  0.425589   \n",
      "11          T  0.134182  0.122508  0.105289  0.128994  0.115079  0.071785   \n",
      "12          D  0.083058  0.081825  0.385118  0.049308  0.048226  0.238549   \n",
      "13          A  0.217711  0.229640  0.320676  0.143012  0.197224  0.272673   \n",
      "14          N  0.170569  0.163812  0.127682  0.058659  0.177064  0.255811   \n",
      "15          T  0.130309  0.094868  0.054098  0.106468  0.058334  0.047147   \n",
      "16          L  0.088683  0.082431  0.249029  0.171694  0.134117  1.049200   \n",
      "17          Y  0.098205  0.103375  0.151504  0.158148  0.104590  0.463085   \n",
      "18          I  0.176468  0.128102  0.068317  0.164851  0.145415  0.625629   \n",
      "19          I  0.287369  0.176392  0.063337  0.164904  0.124258  0.371575   \n",
      "20          Y  0.185002  0.186346  0.097761  0.167410  0.099659  0.142972   \n",
      "21          R  0.138702  0.135287  0.078234  0.090225  0.067587  0.221327   \n",
      "22          D  0.104952  0.111960  0.169397  0.029463  0.069507  0.244056   \n",
      "23          Y  0.114951  0.122272  0.138557  0.125841  0.103592  0.102141   \n",
      "24          T  0.325150  0.189889  0.050750  0.128422  0.149381  0.047834   \n",
      "25          W  0.086661  0.108578  0.097591  0.074377  0.123847  0.068178   \n",
      "26          V  0.169834  0.161288  0.119311  0.049657  0.133472  0.060579   \n",
      "27          A  0.238631  0.265085  0.099706  0.108634  0.231227  0.156765   \n",
      "28          R  0.679145  0.780832  0.078934  0.110154  0.156220  0.067115   \n",
      "29          V  0.227415  0.190524  0.115807  0.058083  0.148460  0.104313   \n",
      "30          Y  0.114237  0.123606  0.060577  0.117473  0.086332  0.064616   \n",
      "31          R  0.490270  0.621485  0.069640  0.076695  0.160927  0.073460   \n",
      "32          G  0.127915  0.106566  0.093341  0.031722  0.076587  0.173109   \n",
      "33          Y  0.045091  0.052351  0.083750  0.088639  0.039316  0.075339   \n",
      "34        sum  7.074082  6.561066  5.390277  3.551720  4.323967  9.019914   \n",
      "35       posi  1.000000  2.000000  3.000000  4.000000  5.000000  6.000000   \n",
      "36    contrib  0.120068  0.111361  0.091489  0.060283  0.073390  0.153095   \n",
      "\n",
      "           P       P.1       P.2          Y  \n",
      "0   0.087171  0.067449  0.054603   0.156475  \n",
      "1   0.083955  0.081122  0.094058   0.090487  \n",
      "2   0.165006  0.163142  0.174014   0.103084  \n",
      "3   0.044452  0.078612  0.089495   0.149694  \n",
      "4   0.107990  0.106477  0.122710   0.160932  \n",
      "5   0.016000  0.027939  0.040889   0.568638  \n",
      "6   0.070379  0.080374  0.093489   0.167240  \n",
      "7   0.136976  0.170655  0.215376   1.749290  \n",
      "8   0.032668  0.043783  0.041985   0.282203  \n",
      "9   0.143786  0.127073  0.135353   0.254626  \n",
      "10  0.122324  0.140069  0.131809   1.948021  \n",
      "11  0.089201  0.103662  0.125685   0.088605  \n",
      "12  0.173167  0.196596  0.152441   0.568672  \n",
      "13  0.193822  0.178054  0.250551   0.223464  \n",
      "14  0.083809  0.147312  0.324042   1.430670  \n",
      "15  0.125940  0.159893  0.207558   0.107806  \n",
      "16  0.044004  0.075769  0.133888   0.209998  \n",
      "17  0.096558  0.104546  0.141586   0.186863  \n",
      "18  0.063277  0.105365  0.222683   0.326913  \n",
      "19  0.085928  0.129773  0.254865   0.244939  \n",
      "20  0.131496  0.130881  0.155159   0.078509  \n",
      "21  0.085526  0.080735  0.083793   0.213355  \n",
      "22  0.215842  0.302620  0.273848   0.927266  \n",
      "23  0.039515  0.038065  0.038438   0.104277  \n",
      "24  0.062851  0.071638  0.099564   0.087041  \n",
      "25  0.190507  0.206221  0.241019   0.276258  \n",
      "26  0.088738  0.091088  0.095961   0.144184  \n",
      "27  0.080700  0.084915  0.094838   0.141715  \n",
      "28  0.038794  0.042437  0.060600   0.059759  \n",
      "29  0.143947  0.133673  0.114226   0.126509  \n",
      "30  0.067645  0.045971  0.033564   0.161478  \n",
      "31  0.025073  0.026764  0.034266   0.071701  \n",
      "32  0.026485  0.032822  0.042662   0.280503  \n",
      "33  0.043598  0.040309  0.032809   0.074300  \n",
      "34  3.207131  3.615803  4.407827  11.765472  \n",
      "35  7.000000  8.000000  9.000000  10.000000  \n",
      "36  0.054434  0.061371  0.074814   0.199695  \n",
      "pos: 1 aa: A contribution: 0.1200680821106778\n",
      "pos: 2 aa: A contribution: 0.111360680806215\n",
      "pos: 3 aa: H contribution: 0.0914889357343745\n",
      "pos: 4 aa: S contribution: 0.060283186299951\n",
      "pos: 5 aa: A contribution: 0.0733904890631963\n",
      "pos: 6 aa: R contribution: 0.153094589266008\n",
      "pos: 7 aa: P contribution: 0.0544344887333443\n",
      "pos: 8 aa: P contribution: 0.0613708577711266\n",
      "pos: 9 aa: P contribution: 0.074813855910412\n",
      "pos: 10 aa: Y contribution: 0.1996948343046941\n"
     ]
    }
   ],
   "source": [
    "data = pd.read_csv(attention_filename_for_hla_and_peptide(\"HLA-A*01:01\", \"AAHSARPPPY\"))\n",
    "print(data)\n",
    "type(data)\n",
    "data.columns\n",
    "\n",
    "aminoacids = [data.columns[i][0] for i in range(1, len(data.columns))]\n",
    "aminoacids\n",
    "\n",
    "for i in range(1, len(data.columns)):\n",
    "    print(\"pos:\", i, \"aa:\", aminoacids[i-1], \"contribution:\", data.iloc[-1, i])\n",
    "    idx = aa_array.index(aminoacids[i-1])\n",
    "\n",
    "    contribs[idx, i-1] += data.iloc[-1, i]\n"
   ]
  },
  {
   "cell_type": "code",
   "execution_count": 12,
   "metadata": {},
   "outputs": [],
   "source": [
    "contribs = np.zeros((20, 14))"
   ]
  },
  {
   "cell_type": "code",
   "execution_count": 15,
   "metadata": {},
   "outputs": [
    {
     "name": "stdout",
     "output_type": "stream",
     "text": [
      "        peptide          hla                        hla_sequence\n",
      "0      DEFVVVTV  HLA-A*01:01  YFAMYQENMAHTDANTLYIIYRDYTWVARVYRGY\n",
      "1      TLNNGSQA  HLA-A*01:01  YFAMYQENMAHTDANTLYIIYRDYTWVARVYRGY\n",
      "2      LEDKAFQL  HLA-A*01:01  YFAMYQENMAHTDANTLYIIYRDYTWVARVYRGY\n",
      "3      RYSHWTKL  HLA-A*01:01  YFAMYQENMAHTDANTLYIIYRDYTWVARVYRGY\n",
      "4      NRKLLDIA  HLA-A*01:01  YFAMYQENMAHTDANTLYIIYRDYTWVARVYRGY\n",
      "...         ...          ...                                 ...\n",
      "1691  YIIPCILIL  HLA-C*15:02  YYAGYRENYRQTDVNKLYIRYDLYTWAELAYTWY\n",
      "1692  SFLHWFHHL  HLA-C*15:02  YYAGYRENYRQTDVNKLYIRYDLYTWAELAYTWY\n",
      "1693  KRMMIRYCL  HLA-C*15:02  YYAGYRENYRQTDVNKLYIRYDLYTWAELAYTWY\n",
      "1694  FTARIIIFS  HLA-C*15:02  YYAGYRENYRQTDVNKLYIRYDLYTWAELAYTWY\n",
      "1695  KSRRFTVRF  HLA-C*15:02  YYAGYRENYRQTDVNKLYIRYDLYTWAELAYTWY\n",
      "\n",
      "[1696 rows x 3 columns]\n"
     ]
    },
    {
     "data": {
      "text/plain": [
       "array([[ 4.45570422,  5.6244897 ,  3.37625922,  3.22877797,  2.81328661,\n",
       "         2.67541228,  1.89369431,  4.36248743,  3.97942297,  1.82731032,\n",
       "         0.85675466,  0.28590169,  0.05892817,  0.        ],\n",
       "       [13.73325194,  7.3499717 ,  2.78027219,  1.90226277,  1.88611756,\n",
       "         1.74760681,  1.03924433,  2.25944094,  1.83207111,  1.16869527,\n",
       "         1.61452757,  0.22784146,  0.26788648,  0.        ],\n",
       "       [ 2.16739544,  1.59925429,  1.82246364,  1.57017653,  1.96657988,\n",
       "         1.89562194,  1.55512257,  1.79958485,  0.9853301 ,  0.65311024,\n",
       "         0.37975654,  0.50714803,  0.        ,  0.        ],\n",
       "       [ 2.65948523,  4.31508724,  6.10892409,  4.29801031,  2.27907385,\n",
       "         1.38918779,  0.81579024,  1.65773414,  1.69211281,  1.66084139,\n",
       "         0.15756167,  0.        ,  0.        ,  0.        ],\n",
       "       [ 0.80341663,  1.32468006,  1.1718564 ,  1.13657269,  0.65747504,\n",
       "         0.56674658,  1.35395512,  0.56145216,  0.84900582,  0.3403371 ,\n",
       "         0.40545733,  0.        ,  0.        ,  0.        ],\n",
       "       [ 1.75320422,  1.93188665,  1.92241488,  1.25373215,  2.29460962,\n",
       "         1.70320725,  2.56555994,  1.34821588,  1.15895339,  0.27732738,\n",
       "         0.2734293 ,  0.07039342,  0.06608866,  0.        ],\n",
       "       [ 2.32067906,  5.15581019,  1.02920061,  3.40655759,  2.23935136,\n",
       "         1.2908335 ,  3.32807998,  1.36344764,  1.36836753,  1.13347694,\n",
       "         0.4722397 ,  0.21142534,  0.        ,  0.21619504],\n",
       "       [ 6.57754696,  1.02258495,  3.27433855,  3.40151079,  3.22109157,\n",
       "         3.2708895 ,  2.02521629,  1.44889653,  0.82460347,  1.4754786 ,\n",
       "         0.34575666,  0.        ,  0.        ,  0.07683868],\n",
       "       [ 0.91815683,  0.84209863,  0.55788994,  0.88739737,  0.94437929,\n",
       "         1.02069751,  0.74001855,  1.14423189,  0.35903814,  0.07051785,\n",
       "         0.13153767,  0.0823331 ,  0.        ,  0.20317717],\n",
       "       [ 2.16534685,  1.57700602,  2.81040446,  0.91105789,  2.30984754,\n",
       "         2.73683337,  1.73433245,  2.01680994,  2.92773955,  1.91519888,\n",
       "         1.82243213,  0.0596001 ,  0.        ,  0.        ],\n",
       "       [ 8.51233509,  9.50982601,  7.40136672,  4.43735848,  3.92680648,\n",
       "         3.69000775,  4.996168  ,  8.06950107,  6.47646484,  6.55429042,\n",
       "         1.84311338,  0.46155473,  0.06293971,  0.        ],\n",
       "       [ 4.4666001 ,  0.59405697,  1.95650085,  2.56338199,  1.28050804,\n",
       "         1.27668815,  3.16741383,  2.31521509,  2.95517677,  1.41391449,\n",
       "         3.10826597,  0.        ,  0.10421773,  0.        ],\n",
       "       [ 3.72937175,  3.5411352 ,  2.30152299,  1.97872539,  1.34622132,\n",
       "         1.30216695,  0.6443966 ,  0.55286249,  1.90706775,  1.31330331,\n",
       "         0.        ,  0.31407125,  0.17141687,  0.        ],\n",
       "       [ 5.6923481 ,  1.58491661,  3.82708592,  2.49416945,  2.01897506,\n",
       "         4.0597886 ,  2.58799507,  3.28800385,  3.27837182,  2.52430228,\n",
       "         1.63509732,  0.136594  ,  0.09300764,  0.        ],\n",
       "       [ 1.17145814, 11.60520262,  2.43260525,  3.25401144,  1.49146494,\n",
       "         2.0798379 ,  2.30791709,  3.12402271,  1.35089055,  1.086594  ,\n",
       "         0.09278806,  0.25342199,  0.0839766 ,  0.        ],\n",
       "       [ 3.13430076,  3.17440426,  2.59966009,  2.11839174,  2.07004602,\n",
       "         2.87172006,  4.15052834,  2.600042  ,  1.56818831,  0.39667126,\n",
       "         0.47198541,  0.18776169,  0.        ,  0.        ],\n",
       "       [ 2.35599138,  2.51255397,  1.71590151,  1.18233618,  1.31774278,\n",
       "         3.15410149,  1.63014507,  1.74084591,  1.32671517,  0.88335005,\n",
       "         0.33733308,  0.08314454,  0.07474335,  0.        ],\n",
       "       [ 0.56370099,  0.37263678,  2.5333496 ,  0.90977113,  1.89469969,\n",
       "         0.83395535,  0.87737212,  0.76684879,  0.34131497,  0.84299397,\n",
       "         0.25563703,  0.        ,  0.        ,  0.        ],\n",
       "       [ 5.36360523,  3.4989358 ,  3.67157831,  1.85481776,  0.87650253,\n",
       "         1.48264464,  0.55308003,  1.51205133,  2.73426221,  4.54772602,\n",
       "         4.94198017,  0.        ,  0.28021182,  0.        ],\n",
       "       [ 2.85431505,  2.77176063,  1.78720051,  1.08440933,  2.53539719,\n",
       "         1.40126386,  2.96896179,  2.75233838,  2.71825572,  0.7694548 ,\n",
       "         0.70113967,  0.11702582,  0.17807149,  0.02989316]])"
      ]
     },
     "execution_count": 15,
     "metadata": {},
     "output_type": "execute_result"
    }
   ],
   "source": [
    "pairs_data = pd.read_csv(\"1696_iedb_random_negative_pairs.csv\")\n",
    "print(pairs_data)\n",
    "for i in range(len(pairs_data)):\n",
    "    pep = pairs_data['peptide'][i]\n",
    "    hla = pairs_data['hla'][i]\n",
    "\n",
    "    if os.path.isfile(f\"./{attention_filename_for_hla_and_peptide(hla, pep)}\"):\n",
    "        # print(f\"{attention_filename_for_hla_and_peptide(hla, pep)} exists\")\n",
    "        data = pd.read_csv(attention_filename_for_hla_and_peptide(hla, pep))\n",
    "\n",
    "        aminoacids = [data.columns[i][0] for i in range(1, len(data.columns))]\n",
    "\n",
    "        for i in range(1, len(data.columns)):\n",
    "            # print(\"pos:\", i, \"aa:\", aminoacids[i-1], \"contribution:\", data.iloc[-1, i])\n",
    "            idx = aa_array.index(aminoacids[i-1])\n",
    "\n",
    "            contribs[idx, i-1] += data.iloc[-1, i]\n",
    "\n",
    "contribs"
   ]
  },
  {
   "cell_type": "code",
   "execution_count": 20,
   "metadata": {},
   "outputs": [
    {
     "data": {
      "image/png": "[encoded data removed]",
      "text/plain": [
       "<Figure size 640x480 with 2 Axes>"
      ]
     },
     "metadata": {},
     "output_type": "display_data"
    }
   ],
   "source": [
    "import matplotlib.pyplot as plt \n",
    "plt.imshow( contribs ) \n",
    "  \n",
    "plt.title( \"All samples\" ) \n",
    "plt.colorbar() \n",
    "plt.xticks(ticks=range(14), labels=range(1, 15))\n",
    "# plt.yticks(ticks=range(7), labels=range(8, 15))\n",
    "plt.yticks(ticks=range(len(aa_array)), labels=aa_array)\n",
    "plt.show() "
   ]
  },
  {
   "cell_type": "code",
   "execution_count": 21,
   "metadata": {},
   "outputs": [],
   "source": [
    "contribs_pos = np.zeros((20, 14))\n",
    "contribs_neg = np.zeros((20, 14))"
   ]
  },
  {
   "cell_type": "code",
   "execution_count": 22,
   "metadata": {},
   "outputs": [
    {
     "name": "stdout",
     "output_type": "stream",
     "text": [
      "              HLA                        HLA_sequence    peptide  y_pred  \\\n",
      "0     HLA-A*01:01  YFAMYQENMAHTDANTLYIIYRDYTWVARVYRGY   DEFVVVTV       0   \n",
      "1     HLA-A*01:01  YFAMYQENMAHTDANTLYIIYRDYTWVARVYRGY   TLNNGSQA       0   \n",
      "2     HLA-A*01:01  YFAMYQENMAHTDANTLYIIYRDYTWVARVYRGY   LEDKAFQL       1   \n",
      "3     HLA-A*01:01  YFAMYQENMAHTDANTLYIIYRDYTWVARVYRGY   RYSHWTKL       0   \n",
      "4     HLA-A*01:01  YFAMYQENMAHTDANTLYIIYRDYTWVARVYRGY   NRKLLDIA       0   \n",
      "...           ...                                 ...        ...     ...   \n",
      "1691  HLA-C*15:02  YYAGYRENYRQTDVNKLYIRYDLYTWAELAYTWY  YIIPCILIL       1   \n",
      "1692  HLA-C*15:02  YYAGYRENYRQTDVNKLYIRYDLYTWAELAYTWY  SFLHWFHHL       0   \n",
      "1693  HLA-C*15:02  YYAGYRENYRQTDVNKLYIRYDLYTWAELAYTWY  KRMMIRYCL       1   \n",
      "1694  HLA-C*15:02  YYAGYRENYRQTDVNKLYIRYDLYTWAELAYTWY  FTARIIIFS       1   \n",
      "1695  HLA-C*15:02  YYAGYRENYRQTDVNKLYIRYDLYTWAELAYTWY  KSRRFTVRF       1   \n",
      "\n",
      "      y_prob  \n",
      "0     0.0000  \n",
      "1     0.0000  \n",
      "2     0.9999  \n",
      "3     0.0009  \n",
      "4     0.0000  \n",
      "...      ...  \n",
      "1691  0.9999  \n",
      "1692  0.0016  \n",
      "1693  0.6561  \n",
      "1694  0.9778  \n",
      "1695  0.5595  \n",
      "\n",
      "[1696 rows x 5 columns]\n",
      "0       0\n",
      "1       0\n",
      "2       1\n",
      "3       0\n",
      "4       0\n",
      "       ..\n",
      "1691    1\n",
      "1692    0\n",
      "1693    1\n",
      "1694    1\n",
      "1695    1\n",
      "Name: y_pred, Length: 1696, dtype: int64\n"
     ]
    }
   ],
   "source": [
    "transphla_pairs = pd.read_csv(\"results/predict_results.csv\")\n",
    "\n",
    "print(transphla_pairs)\n",
    "print(transphla_pairs['y_pred'])\n",
    "for i in range(len(transphla_pairs)):\n",
    "    pep = transphla_pairs['peptide'][i]\n",
    "    hla = transphla_pairs['HLA'][i]\n",
    "    pred = transphla_pairs['y_pred'][i]\n",
    "\n",
    "    if pred == 1:\n",
    "        # print(\"pred=1\")\n",
    "        if os.path.isfile(f\"./{attention_filename_for_hla_and_peptide(hla, pep)}\"):\n",
    "            # print(f\"{attention_filename_for_hla_and_peptide(hla, pep)} exists\")\n",
    "            data = pd.read_csv(attention_filename_for_hla_and_peptide(hla, pep))\n",
    "\n",
    "            aminoacids = [data.columns[i][0] for i in range(1, len(data.columns))]\n",
    "\n",
    "            for i in range(1, len(data.columns)):\n",
    "                # print(\"pos:\", i, \"aa:\", aminoacids[i-1], \"contribution:\", data.iloc[-1, i])\n",
    "                idx = aa_array.index(aminoacids[i-1])\n",
    "\n",
    "                contribs_pos[idx, i-1] += data.iloc[-1, i]\n",
    "\n",
    "    else:\n",
    "        # print(\"pred=0\")\n",
    "        if os.path.isfile(f\"./{attention_filename_for_hla_and_peptide(hla, pep)}\"):\n",
    "            # print(f\"{attention_filename_for_hla_and_peptide(hla, pep)} exists\")\n",
    "            data = pd.read_csv(attention_filename_for_hla_and_peptide(hla, pep))\n",
    "\n",
    "            aminoacids = [data.columns[i][0] for i in range(1, len(data.columns))]\n",
    "\n",
    "            for i in range(1, len(data.columns)):\n",
    "                # print(\"pos:\", i, \"aa:\", aminoacids[i-1], \"contribution:\", data.iloc[-1, i])\n",
    "                idx = aa_array.index(aminoacids[i-1])\n",
    "\n",
    "                contribs_neg[idx, i-1] += data.iloc[-1, i]"
   ]
  },
  {
   "cell_type": "code",
   "execution_count": 23,
   "metadata": {},
   "outputs": [
    {
     "data": {
      "image/png": "[encoded data removed]",
      "text/plain": [
       "<Figure size 640x480 with 2 Axes>"
      ]
     },
     "metadata": {},
     "output_type": "display_data"
    }
   ],
   "source": [
    "import matplotlib.pyplot as plt \n",
    "plt.imshow( contribs_pos ) \n",
    "  \n",
    "plt.title( \"Samples TransPHLA classified as positive\" ) \n",
    "plt.colorbar() \n",
    "plt.xticks(ticks=range(14), labels=range(1, 15))\n",
    "# plt.yticks(ticks=range(7), labels=range(8, 15))\n",
    "plt.yticks(ticks=range(len(aa_array)), labels=aa_array)\n",
    "plt.show() "
   ]
  },
  {
   "cell_type": "code",
   "execution_count": 24,
   "metadata": {},
   "outputs": [
    {
     "data": {
      "image/png": "[encoded data removed]",
      "text/plain": [
       "<Figure size 640x480 with 2 Axes>"
      ]
     },
     "metadata": {},
     "output_type": "display_data"
    }
   ],
   "source": [
    "import matplotlib.pyplot as plt \n",
    "plt.imshow( contribs_neg ) \n",
    "  \n",
    "plt.title( \"Samples TransPHLA classified as negative\" ) \n",
    "plt.colorbar() \n",
    "plt.xticks(ticks=range(14), labels=range(1, 15))\n",
    "# plt.yticks(ticks=range(7), labels=range(8, 15))\n",
    "plt.yticks(ticks=range(len(aa_array)), labels=aa_array)\n",
    "plt.show() "
   ]
  }
 ],
 "metadata": {
  "kernelspec": {
   "display_name": "Python 3",
   "language": "python",
   "name": "python3"
  },
  "language_info": {
   "codemirror_mode": {
    "name": "ipython",
    "version": 3
   },
   "file_extension": ".py",
   "mimetype": "text/x-python",
   "name": "python",
   "nbconvert_exporter": "python",
   "pygments_lexer": "ipython3",
   "version": "3.11.6"
  }
 },
 "nbformat": 4,
 "nbformat_minor": 2
}
